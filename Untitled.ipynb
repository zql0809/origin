{
 "cells": [
  {
   "cell_type": "code",
   "execution_count": null,
   "metadata": {
    "collapsed": true
   },
   "outputs": [],
   "source": []
  },
  {
   "cell_type": "code",
   "execution_count": 54,
   "metadata": {},
   "outputs": [
    {
     "name": "stdout",
     "output_type": "stream",
     "text": [
      "1\n",
      "5\n",
      "16\n",
      "this is a exception\n",
      "finally execution\n",
      "False\n"
     ]
    }
   ],
   "source": [
    "#python 默认的编码格式ASCII  在普通的py文件配置文件编码为 #coding=utf-8\n",
    "\n",
    "#python基本数据类型·有   int float boolean conplex复数 [对象  数组  元组  字典]\n",
    "a = 3 % 2;#取余\n",
    "print(a)\n",
    "\n",
    "b = 3 + 2;#加法\n",
    "print(b)\n",
    "\n",
    "c = 4**2;#\n",
    "print(c);\n",
    "\n",
    "#通用算术运算符  + - * / % **->乘方\n",
    "\n",
    "#python保留字符 and (并且&&) or(或者 ||) not(非！) exec(执行) assert(断言)\n",
    "#eval()计算某个表达式值  exec()可以执行一个语句\n",
    "#if else elif   \n",
    "#for break\n",
    "#while \n",
    "#try except else finally 使用try except进行异常捕获,若有异常进入except 没有则进入else\n",
    "                                #finally 不管有无return都会执行的代码块\n",
    "#is ==(比较两个值 不会比较两个对象) \n",
    "#class\n",
    "#import from \n",
    "#def continue pass\n",
    "#yield\n",
    "a = True\n",
    "d = 5 + 3j;\n",
    "assert( a); #类似java的断言  若断言为否则会抛出一个异常AssertionError\n",
    "\n",
    "try:\n",
    "    xc = eval(\"5+3\")\n",
    "    raise AssertionError\n",
    "except AssertionError as a:\n",
    "    print(\"this is a exception{}\".format(a))\n",
    "else:\n",
    "    print(\"不执行异常逻辑\")\n",
    "finally:\n",
    "    print(\"finally execution\")\n",
    "p =   range(10) #python 3列表已经优化为生成器 yield \n",
    "#q = [i+2 for i in p]\n",
    "\n",
    "print(isinstance(p,float))\n",
    "q = frozenset([i+2 for i in p])\n",
    "qq = tuple([i*3 for i in p])\n",
    "#q[1] = 3  qq[2] = 4如此操作不可变的列表就会抛出 typeError \n",
    "            #因此可以看做forzenset 和 tuple类似的操作\n",
    "\n",
    "#chr ord 转化为字符 转化为整形\n",
    "#oct hex 转化八进制 十六进制\n",
    "#list set dic frozenset tuple(转化为元组)\n",
    "\n",
    "\n",
    "\n",
    "ll = lambda x:x+2;"
   ]
  },
  {
   "cell_type": "code",
   "execution_count": 53,
   "metadata": {},
   "outputs": [
    {
     "name": "stdout",
     "output_type": "stream",
     "text": [
      "[3, 4, 5, 6, 7, 8, 9, 10, 11, 12]\n"
     ]
    }
   ],
   "source": [
    "#lambda表达式  python3 map filter reduce等方法已经返回 object不是list\n",
    "a = 3;\n",
    "li = [q for q in range(10)]\n",
    "\n",
    "p = map(lambda x:x+3,li);\n",
    "\n",
    "print(list(p))"
   ]
  },
  {
   "cell_type": "code",
   "execution_count": 49,
   "metadata": {
    "collapsed": true
   },
   "outputs": [],
   "source": [
    "#class 类"
   ]
  },
  {
   "cell_type": "code",
   "execution_count": 68,
   "metadata": {},
   "outputs": [
    {
     "name": "stdout",
     "output_type": "stream",
     "text": [
      "Time used: 0.03699994087219238\n"
     ]
    }
   ],
   "source": [
    "#装饰器  函数参数\n",
    "import time as t\n",
    "import functools\n",
    "\n",
    "def timer(func):\n",
    "    @functools.wraps(func)\n",
    "    def inner():\n",
    "        time = t.time();\n",
    "        func();\n",
    "        timeafter = t.time();\n",
    "        print('Time used:',timeafter-time)\n",
    "    return inner;\n",
    "\n",
    "@timer\n",
    "def getsum():\n",
    "    a = 12;\n",
    "    b = 14;\n",
    "    for x in range(1000000):\n",
    "        pass;\n",
    "    return a+b;\n",
    "\n",
    "getsum();"
   ]
  },
  {
   "cell_type": "code",
   "execution_count": 69,
   "metadata": {},
   "outputs": [],
   "source": [
    "import math as mutil\n"
   ]
  },
  {
   "cell_type": "code",
   "execution_count": null,
   "metadata": {
    "collapsed": true
   },
   "outputs": [],
   "source": []
  },
  {
   "cell_type": "code",
   "execution_count": null,
   "metadata": {
    "collapsed": true
   },
   "outputs": [],
   "source": []
  }
 ],
 "metadata": {
  "kernelspec": {
   "display_name": "Python 3",
   "language": "python",
   "name": "python3"
  },
  "language_info": {
   "codemirror_mode": {
    "name": "ipython",
    "version": 3
   },
   "file_extension": ".py",
   "mimetype": "text/x-python",
   "name": "python",
   "nbconvert_exporter": "python",
   "pygments_lexer": "ipython3",
   "version": "3.6.3"
  },
  "toc": {
   "base_numbering": 1,
   "nav_menu": {},
   "number_sections": true,
   "sideBar": true,
   "skip_h1_title": false,
   "title_cell": "Table of Contents",
   "title_sidebar": "Contents",
   "toc_cell": false,
   "toc_position": {},
   "toc_section_display": true,
   "toc_window_display": false
  }
 },
 "nbformat": 4,
 "nbformat_minor": 2
}
