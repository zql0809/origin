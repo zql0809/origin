{
 "cells": [
  {
   "cell_type": "code",
   "execution_count": null,
   "metadata": {
    "collapsed": true
   },
   "outputs": [],
   "source": []
  },
  {
   "cell_type": "code",
   "execution_count": 54,
   "metadata": {},
   "outputs": [
    {
     "name": "stdout",
     "output_type": "stream",
     "text": [
      "1\n",
      "5\n",
      "16\n",
      "this is a exception\n",
      "finally execution\n",
      "False\n"
     ]
    }
   ],
   "source": [
    "#python 默认的编码格式ASCII  在普通的py文件配置文件编码为 #coding=utf-8\n",
    "\n",
    "#python基本数据类型·有  boolean int float complex string [对象  数组  元组  字典]\n",
    "a = 3 % 2;#取余\n",
    "print(a)\n",
    "\n",
    "b = 3 + 2;#加法\n",
    "print(b)\n",
    "\n",
    "c = 4**2;#\n",
    "print(c);\n",
    "\n",
    "#通用算术运算符  + - * / % **->乘方\n",
    "\n",
    "#python保留字符 and (并且&&) or(或者 ||) not(非！) exec(执行) assert(断言)\n",
    "#eval()计算某个表达式值  exec()可以执行一个语句\n",
    "#if else elif   \n",
    "#for break\n",
    "#while \n",
    "#try except else finally 使用try except进行异常捕获,若有异常进入except 没有则进入else\n",
    "                                #finally 不管有无return都会执行的代码块\n",
    "#is ==(比较两个值 不会比较两个对象) \n",
    "#class\n",
    "#import from \n",
    "#def continue pass\n",
    "#yield\n",
    "a = True\n",
    "d = 5 + 3j;\n",
    "assert( a); #类似java的断言  若断言为否则会抛出一个异常AssertionError\n",
    "\n",
    "try:\n",
    "    xc = eval(\"5+3\")\n",
    "    raise AssertionError\n",
    "except AssertionError as a:\n",
    "    print(\"this is a exception{}\".format(a))\n",
    "else:\n",
    "    print(\"不执行异常逻辑\")\n",
    "finally:\n",
    "    print(\"finally execution\")\n",
    "p =   range(10) #python 3列表已经优化为生成器 yield \n",
    "#q = [i+2 for i in p]\n",
    "\n",
    "print(isinstance(p,float))\n",
    "q = frozenset([i+2 for i in p])\n",
    "qq = tuple([i*3 for i in p])\n",
    "#q[1] = 3  qq[2] = 4如此操作不可变的列表就会抛出 typeError \n",
    "            #因此可以看做forzenset 和 tuple类似的操作\n",
    "\n",
    "#chr ord 转化为字符 转化为整形\n",
    "#oct hex 转化八进制 十六进制\n",
    "#list set dic frozenset tuple(转化为元组)\n",
    "\n"
   ]
  },
  {
   "cell_type": "code",
   "execution_count": 53,
   "metadata": {},
   "outputs": [
    {
     "name": "stdout",
     "output_type": "stream",
     "text": [
      "[3, 4, 5, 6, 7, 8, 9, 10, 11, 12]\n"
     ]
    }
   ],
   "source": [
    "#lambda表达式  python3 map filter reduce等方法已经返回 object不是list\n",
    "a = 3;\n",
    "li = [q for q in range(10)]\n",
    "\n",
    "p = map(lambda x:x+3,li);\n",
    "\n",
    "print(list(p))"
   ]
  },
  {
   "cell_type": "code",
   "execution_count": 49,
   "metadata": {
    "collapsed": true
   },
   "outputs": [],
   "source": [
    "#class 类"
   ]
  },
  {
   "cell_type": "code",
   "execution_count": 53,
   "metadata": {},
   "outputs": [
    {
     "name": "stdout",
     "output_type": "stream",
     "text": [
      "(1, 2) {'f': 3}\n",
      "Time used: 0.1114187240600586\n"
     ]
    }
   ],
   "source": [
    "#装饰器  函数参数\n",
    "import time as t\n",
    "import functools\n",
    "\n",
    "def timer(func):\n",
    "    @functools.wraps(func)\n",
    "    def inner(*l,**p):\n",
    "        time = t.time();\n",
    "        func(*l,**p);\n",
    "        timeafter = t.time();\n",
    "        print('Time used:',timeafter-time)\n",
    "        \n",
    "    return inner;\n",
    "\n",
    "@timer\n",
    "def getsum(*a,**b):\n",
    "    for x in range(1000000):\n",
    "        pass;\n",
    "    print(a,b)\n",
    "   \n",
    "\n",
    "getsum(1,2,f=3);"
   ]
  },
  {
   "cell_type": "code",
   "execution_count": 69,
   "metadata": {},
   "outputs": [],
   "source": [
    "import math as mutil\n"
   ]
  },
  {
   "cell_type": "code",
   "execution_count": 6,
   "metadata": {},
   "outputs": [
    {
     "name": "stdout",
     "output_type": "stream",
     "text": [
      "1 2 3 3 [1, 2, 3]\n",
      "(1, 2)\n",
      "{'d': 'sd', 'p': [23]}\n"
     ]
    }
   ],
   "source": [
    "#!/usr/bin/python\n",
    "#-*- coding:utf-8 -*-\n",
    "#函数参数占位写法\n",
    "def test(a,b,c,d=3,p=[1,2,3]):\n",
    "    print(a,b,c,d,p)\n",
    "#函数传参数通配写法\n",
    "def test1(*p,**q):\n",
    "    print(p)\n",
    "    print(q)\n",
    "    \n",
    "l = [1,2,3]\n",
    "p = {\"d\":\"sd\",\"p\":[23]}\n",
    "#传入参数若没有 用*    ** 进行打包的话 test1则会被第一个参数接受 test并且会报错\n",
    "#所以使用通用入参的时候 需要使用list dictionary进行 * **转化传递\n",
    "test(1,2,3)\n",
    "test1(1,2,**p); \n",
    "#"
   ]
  },
  {
   "cell_type": "code",
   "execution_count": 71,
   "metadata": {},
   "outputs": [
    {
     "name": "stdout",
     "output_type": "stream",
     "text": [
      "1 2 3\n",
      "1.7\n",
      " forzense\n",
      "[5, 5]\n",
      "12.3\n",
      "123\n",
      "7\n",
      "140717162688288\n",
      "hehe\n",
      "hehe\n",
      "3.1917441039952994\n",
      "ppppllll\n"
     ]
    }
   ],
   "source": [
    "#python 的基本类型有 数字Number List Tuple Dictory String\n",
    "\n",
    "#数字类型Number有 int float complex \n",
    "import random\n",
    "import math \n",
    "a,b,c=1,2,3\n",
    "print(a,b,c)\n",
    "d = 3.4\n",
    "print(d/2)\n",
    "\n",
    "\n",
    "a=\"zql test for python forzenset\"\n",
    "#  012....\n",
    "#  ...                       -2-1\n",
    "#可以通过这样的下标进行切片\n",
    "print(a[1-11:-1])\n",
    "\n",
    "li = [1,2,3,4,5]# 一个数组 * n 就会打印这个数组n次\n",
    "\n",
    "print(li[4:]*2)\n",
    "\n",
    "print(float(\"12.3\"))\n",
    "print(int(\"123\"))\n",
    "\n",
    "print(chr(55))\n",
    "print(id(2))\n",
    "\n",
    "for letter in \"hello zql h\":\n",
    "    if letter == \"h\":\n",
    "        pass;\n",
    "        print(\"hehe\");\n",
    "#python 随机函数\n",
    "random.choice([12,3])\n",
    "x = random.shuffle([1,2,3])\n",
    "p = random.uniform(3,4)\n",
    "\n",
    "print(p)\n",
    "q = \"zzzzppppllll\"\n",
    "print(q[4:])"
   ]
  },
  {
   "cell_type": "code",
   "execution_count": 64,
   "metadata": {},
   "outputs": [
    {
     "name": "stdout",
     "output_type": "stream",
     "text": [
      "[('2021192371', 'com')]\n",
      "['32', '38']\n"
     ]
    }
   ],
   "source": [
    "#python 核心编程 正则表达式 re 20200321\n",
    "import re\n",
    "targetString = \"2021192371@qq.com\";\n",
    "partten = r'(\\d+)(?:@)qq\\.(.+)';#  = (\\d+)\n",
    "x = re.compile(partten);#正则表达式模块re方法 1.complie编译产生一个类似java的mather类\n",
    "p = x.findall(targetString) #注:上述表达式 正则表达式 比较懒惰的匹配\n",
    "#2.若匹配的括号内使用了  ?: 和普通的()一样只是findall不会查找到\n",
    "#?= ?<= 不会占位若要让其他的分组成功需要再 进行一次匹配\n",
    "print(p)\n",
    "b=\"12332aa438aaf\"\n",
    "print(re.findall(r\"[0-9a-z]{2}(?=aa)\",b));\n",
    "\n"
   ]
  },
  {
   "cell_type": "code",
   "execution_count": null,
   "metadata": {},
   "outputs": [],
   "source": []
  },
  {
   "cell_type": "code",
   "execution_count": null,
   "metadata": {},
   "outputs": [],
   "source": []
  },
  {
   "cell_type": "code",
   "execution_count": null,
   "metadata": {},
   "outputs": [],
   "source": []
  },
  {
   "cell_type": "code",
   "execution_count": null,
   "metadata": {},
   "outputs": [],
   "source": []
  },
  {
   "cell_type": "code",
   "execution_count": null,
   "metadata": {},
   "outputs": [],
   "source": []
  },
  {
   "cell_type": "code",
   "execution_count": null,
   "metadata": {},
   "outputs": [],
   "source": []
  },
  {
   "cell_type": "code",
   "execution_count": null,
   "metadata": {},
   "outputs": [],
   "source": []
  },
  {
   "cell_type": "code",
   "execution_count": null,
   "metadata": {},
   "outputs": [],
   "source": []
  },
  {
   "cell_type": "code",
   "execution_count": null,
   "metadata": {},
   "outputs": [],
   "source": []
  },
  {
   "cell_type": "code",
   "execution_count": null,
   "metadata": {},
   "outputs": [],
   "source": []
  },
  {
   "cell_type": "code",
   "execution_count": null,
   "metadata": {},
   "outputs": [],
   "source": []
  },
  {
   "cell_type": "code",
   "execution_count": null,
   "metadata": {},
   "outputs": [],
   "source": []
  },
  {
   "cell_type": "code",
   "execution_count": null,
   "metadata": {},
   "outputs": [],
   "source": []
  },
  {
   "cell_type": "code",
   "execution_count": null,
   "metadata": {},
   "outputs": [],
   "source": []
  },
  {
   "cell_type": "code",
   "execution_count": null,
   "metadata": {},
   "outputs": [],
   "source": []
  },
  {
   "cell_type": "code",
   "execution_count": null,
   "metadata": {},
   "outputs": [],
   "source": []
  },
  {
   "cell_type": "code",
   "execution_count": null,
   "metadata": {},
   "outputs": [],
   "source": []
  },
  {
   "cell_type": "code",
   "execution_count": null,
   "metadata": {},
   "outputs": [],
   "source": []
  },
  {
   "cell_type": "code",
   "execution_count": null,
   "metadata": {},
   "outputs": [],
   "source": []
  },
  {
   "cell_type": "code",
   "execution_count": null,
   "metadata": {},
   "outputs": [],
   "source": []
  },
  {
   "cell_type": "code",
   "execution_count": null,
   "metadata": {},
   "outputs": [],
   "source": []
  },
  {
   "cell_type": "code",
   "execution_count": null,
   "metadata": {},
   "outputs": [],
   "source": []
  },
  {
   "cell_type": "code",
   "execution_count": null,
   "metadata": {},
   "outputs": [],
   "source": []
  },
  {
   "cell_type": "code",
   "execution_count": null,
   "metadata": {},
   "outputs": [],
   "source": []
  },
  {
   "cell_type": "code",
   "execution_count": null,
   "metadata": {},
   "outputs": [],
   "source": []
  },
  {
   "cell_type": "code",
   "execution_count": null,
   "metadata": {},
   "outputs": [],
   "source": []
  },
  {
   "cell_type": "code",
   "execution_count": null,
   "metadata": {},
   "outputs": [],
   "source": []
  },
  {
   "cell_type": "code",
   "execution_count": null,
   "metadata": {},
   "outputs": [],
   "source": []
  },
  {
   "cell_type": "code",
   "execution_count": null,
   "metadata": {},
   "outputs": [],
   "source": []
  },
  {
   "cell_type": "code",
   "execution_count": null,
   "metadata": {},
   "outputs": [],
   "source": []
  },
  {
   "cell_type": "code",
   "execution_count": null,
   "metadata": {},
   "outputs": [],
   "source": []
  },
  {
   "cell_type": "code",
   "execution_count": null,
   "metadata": {},
   "outputs": [],
   "source": []
  },
  {
   "cell_type": "code",
   "execution_count": null,
   "metadata": {},
   "outputs": [],
   "source": []
  },
  {
   "cell_type": "code",
   "execution_count": null,
   "metadata": {},
   "outputs": [],
   "source": []
  },
  {
   "cell_type": "code",
   "execution_count": null,
   "metadata": {},
   "outputs": [],
   "source": []
  },
  {
   "cell_type": "code",
   "execution_count": null,
   "metadata": {},
   "outputs": [],
   "source": []
  },
  {
   "cell_type": "code",
   "execution_count": null,
   "metadata": {},
   "outputs": [],
   "source": []
  },
  {
   "cell_type": "code",
   "execution_count": null,
   "metadata": {},
   "outputs": [],
   "source": []
  },
  {
   "cell_type": "code",
   "execution_count": null,
   "metadata": {},
   "outputs": [],
   "source": []
  },
  {
   "cell_type": "code",
   "execution_count": 25,
   "metadata": {},
   "outputs": [
    {
     "name": "stdout",
     "output_type": "stream",
     "text": [
      "None\n",
      "{'q': 1, 'p': 2, 'z': '3', 'x': 'default'}\n",
      "default\n",
      "{'q': 1, 'p': 2, 'z': '3'}\n"
     ]
    }
   ],
   "source": [
    "#List tumple  dic\n",
    "#20200321 test For dic\n",
    "q = {\"q\":1,\"p\":2,\"z\":\"3\"};\n",
    "q.setdefault(\"x\",\"default\");#1.和get类似只是若没有对应的key值就会设置默认值 default\n",
    "print(q.get(\"xp\"))#2.get(key,defauleValue)获取字典里面的值  后面跟的是默认值 若没有就不会None\n",
    "print(q)\n",
    "\n",
    "qq = {}.fromkeys([str(x) for x in range(10)],\"hehe\");#3.设置一个默认的字典 由list生成\n",
    "#\n",
    "#q.clear;#4.清空一个字典的值\n",
    "#通过 keys()函数进行遍历 字典  注意字典的key value的形式最好一样 不然·有的操作就会有问题\n",
    "for cx in q.keys():\n",
    "    pass\n",
    "#    print(\"key is:\"+str(cx)+\"and value is :\"+str(q.get(cx)))\n",
    "for key,value in q.items():#6.items函数就和上面的keys函数差不多  可以直接遍历字典的所有值\n",
    "#    print(\"key is:\"+str(key)+\"value is:\"+str(value))\n",
    "    pass\n",
    "\n",
    "    \n",
    "#7 删除字典的某些值 pop【可以指定一个key】  popitem 【默认弹出尾部最后一个key value】\n",
    "print(q.popitem()[1]);#并且弹出的值是一个 元组;key value 对应[0] [1]\n"
   ]
  },
  {
   "cell_type": "code",
   "execution_count": null,
   "metadata": {},
   "outputs": [],
   "source": []
  },
  {
   "cell_type": "code",
   "execution_count": null,
   "metadata": {},
   "outputs": [],
   "source": []
  },
  {
   "cell_type": "code",
   "execution_count": null,
   "metadata": {},
   "outputs": [],
   "source": []
  },
  {
   "cell_type": "code",
   "execution_count": null,
   "metadata": {},
   "outputs": [],
   "source": []
  },
  {
   "cell_type": "code",
   "execution_count": null,
   "metadata": {},
   "outputs": [],
   "source": []
  },
  {
   "cell_type": "code",
   "execution_count": null,
   "metadata": {},
   "outputs": [],
   "source": []
  },
  {
   "cell_type": "code",
   "execution_count": null,
   "metadata": {},
   "outputs": [],
   "source": [
    "\n",
    "\n"
   ]
  },
  {
   "cell_type": "code",
   "execution_count": null,
   "metadata": {},
   "outputs": [],
   "source": []
  },
  {
   "cell_type": "code",
   "execution_count": null,
   "metadata": {},
   "outputs": [],
   "source": []
  },
  {
   "cell_type": "code",
   "execution_count": null,
   "metadata": {},
   "outputs": [],
   "source": []
  },
  {
   "cell_type": "code",
   "execution_count": null,
   "metadata": {},
   "outputs": [],
   "source": []
  },
  {
   "cell_type": "code",
   "execution_count": null,
   "metadata": {},
   "outputs": [],
   "source": []
  },
  {
   "cell_type": "code",
   "execution_count": null,
   "metadata": {},
   "outputs": [],
   "source": []
  },
  {
   "cell_type": "code",
   "execution_count": null,
   "metadata": {},
   "outputs": [],
   "source": []
  },
  {
   "cell_type": "code",
   "execution_count": null,
   "metadata": {},
   "outputs": [],
   "source": []
  },
  {
   "cell_type": "code",
   "execution_count": null,
   "metadata": {},
   "outputs": [],
   "source": []
  },
  {
   "cell_type": "code",
   "execution_count": null,
   "metadata": {},
   "outputs": [],
   "source": []
  },
  {
   "cell_type": "code",
   "execution_count": null,
   "metadata": {},
   "outputs": [],
   "source": []
  },
  {
   "cell_type": "code",
   "execution_count": null,
   "metadata": {},
   "outputs": [],
   "source": []
  },
  {
   "cell_type": "code",
   "execution_count": null,
   "metadata": {},
   "outputs": [],
   "source": []
  }
 ],
 "metadata": {
  "kernelspec": {
   "display_name": "Python 3",
   "language": "python",
   "name": "python3"
  },
  "language_info": {
   "codemirror_mode": {
    "name": "ipython",
    "version": 3
   },
   "file_extension": ".py",
   "mimetype": "text/x-python",
   "name": "python",
   "nbconvert_exporter": "python",
   "pygments_lexer": "ipython3",
   "version": "3.7.0"
  },
  "toc": {
   "base_numbering": 1,
   "nav_menu": {},
   "number_sections": true,
   "sideBar": true,
   "skip_h1_title": false,
   "title_cell": "Table of Contents",
   "title_sidebar": "Contents",
   "toc_cell": false,
   "toc_position": {},
   "toc_section_display": true,
   "toc_window_display": false
  }
 },
 "nbformat": 4,
 "nbformat_minor": 2
}
